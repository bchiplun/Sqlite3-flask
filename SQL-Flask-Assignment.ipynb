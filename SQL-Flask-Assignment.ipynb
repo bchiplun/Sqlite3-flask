{
 "cells": [
  {
   "cell_type": "markdown",
   "metadata": {},
   "source": [
    "## Requirements\n",
    "Phase-1 \n",
    "Database :  Use SQLite database \n",
    "1.) create a table with following schema:\n",
    "Database name - retail.db\n",
    "Table name - stores\n",
    "columns - store_id , store_city, number_of_items\n",
    "Datatype - use text as datatype for all the columns \n",
    "\n",
    "Python - Use Flask library to connect with Postman frontend\n",
    "\n",
    "Functions to be implemented:\n",
    "1.)How to add a new store \n",
    "2.)How to update number of items in any existing store\n",
    "on the basis of store_id\n",
    "3.)How to delete any store entry \n",
    "\n",
    "Note - We don't need any credentials for now to implement this application \n",
    "\n",
    "\n",
    "sample data -\n",
    "store_id , store_city, number_of_items\n",
    "1         , Pune      , 200 \n",
    "2         , Mumbai     , 350 \n",
    "3         , Pune       , 150 \n",
    "\n",
    "\n",
    "Phase-2 \n",
    "Add a new table in database \n",
    "Database name - retail.db\n",
    "Table name - users\n",
    "columns - user_id , password\n",
    "Datatype - use text as datatype for all the columns \n",
    "\n",
    "First ask user to provide userid and password \n",
    "if that is a valid user , then only user should be able to \n",
    "see the stores details / change store details \n",
    "\n",
    "Phase-3 \n",
    "Add a new table with following information :\n",
    "Database name - retail.db\n",
    "Table name - products_info\n",
    "columns - product_id , product_name, price \n",
    "Datatype - use text as datatype for all the columns \n",
    "\n",
    "Enter product details in products_info table from front end :\n",
    "1.) Add a new product \n",
    "2.) delete any existing product \n",
    "3.) update price of any existing product \n",
    "\n",
    "Assumption : All of the mentioned products are available in all the stores with same price"
   ]
  },
  {
   "cell_type": "code",
   "execution_count": 2,
   "metadata": {},
   "outputs": [
    {
     "data": {
      "text/plain": [
       "\"\\nconnection = sqlite3.connect('retail.db')\\ncursor = connection.cursor()\\ncursor.execute('CREATE TABLE stores (store_id TEXT, store_city TEXT, number_of_items TEXT)')\\ncursor.execute('CREATE TABLE users (user_id TEXT, password TEXT)')\\ncursor.execute('CREATE TABLE products_info (product_id TEXT, product_name TEXT, price TEXT)')\\nconnection.close()\\n\""
      ]
     },
     "execution_count": 2,
     "metadata": {},
     "output_type": "execute_result"
    }
   ],
   "source": [
    "#Creating database retail.db\n",
    "\n",
    "import sqlite3\n",
    "'''\n",
    "connection = sqlite3.connect('retail.db')\n",
    "cursor = connection.cursor()\n",
    "cursor.execute('CREATE TABLE stores (store_id TEXT, store_city TEXT, number_of_items TEXT)')\n",
    "cursor.execute('CREATE TABLE users (user_id TEXT, password TEXT)')\n",
    "cursor.execute('CREATE TABLE products_info (product_id TEXT, product_name TEXT, price TEXT)')\n",
    "connection.close()\n",
    "'''"
   ]
  },
  {
   "cell_type": "code",
   "execution_count": 3,
   "metadata": {},
   "outputs": [
    {
     "data": {
      "text/plain": [
       "'\\nconnection = sqlite3.connect(\\'retail.db\\')\\ncursor = connection.cursor()\\ncursor.execute(\"INSERT INTO users VALUES(\\'user1\\',\\'pass1\\')\")\\ncursor.execute(\"INSERT INTO users VALUES(\\'user2\\',\\'pass2\\')\")\\ncursor.execute(\"INSERT INTO users VALUES(\\'user3\\',\\'pass3\\')\")\\nconnection.commit()\\nconnection.close()\\n'"
      ]
     },
     "execution_count": 3,
     "metadata": {},
     "output_type": "execute_result"
    }
   ],
   "source": [
    "#Insterting data into users table\n",
    "'''\n",
    "connection = sqlite3.connect('retail.db')\n",
    "cursor = connection.cursor()\n",
    "cursor.execute(\"INSERT INTO users VALUES('user1','pass1')\")\n",
    "cursor.execute(\"INSERT INTO users VALUES('user2','pass2')\")\n",
    "cursor.execute(\"INSERT INTO users VALUES('user3','pass3')\")\n",
    "connection.commit()\n",
    "connection.close()\n",
    "'''"
   ]
  },
  {
   "cell_type": "code",
   "execution_count": 4,
   "metadata": {},
   "outputs": [
    {
     "name": "stdout",
     "output_type": "stream",
     "text": [
      "[('user1', 'pass1'), ('user2', 'pass2'), ('user3', 'pass3')]\n"
     ]
    }
   ],
   "source": [
    "connection = sqlite3.connect('retail.db')\n",
    "cursor = connection.cursor()\n",
    "records = cursor.execute('SELECT * FROM users')\n",
    "print(list(records))\n",
    "connection.close()"
   ]
  },
  {
   "cell_type": "code",
   "execution_count": 5,
   "metadata": {},
   "outputs": [],
   "source": [
    "from flask import Flask, request, jsonify\n",
    "\n",
    "app = Flask(__name__)"
   ]
  },
  {
   "cell_type": "code",
   "execution_count": 6,
   "metadata": {},
   "outputs": [],
   "source": [
    "valid = False\n",
    "#User Login\n",
    "@app.route('/login', methods=['POST'])\n",
    "def find():\n",
    "    user = request.get_json()\n",
    "    connection = sqlite3.connect('retail.db')\n",
    "    cursor = connection.cursor()\n",
    "    records = cursor.execute(\"SELECT * FROM users WHERE user_id = '{}' and password = '{}'\".format(user['id'], user['password']))\n",
    "    global valid\n",
    "    if len(list(records)) > 0:\n",
    "        valid = True\n",
    "        return 'Welcome!'\n",
    "    else:\n",
    "        valid = False\n",
    "        return 'Inavlid user id or password'\n",
    "    connection.close()\n",
    "\n",
    "    \n",
    "#Stores operations\n",
    "@app.route('/registerstores', methods=['Post'])\n",
    "def registerstores():\n",
    "    if valid:\n",
    "        store = request.get_json()\n",
    "        connection = sqlite3.connect('retail.db')\n",
    "        cursor = connection.cursor()\n",
    "        cursor.execute('INSERT INTO stores Values(?,?,?)',(store['id'], store['city'], store['num']))\n",
    "        connection.commit()\n",
    "        connection.close()\n",
    "        return 'Store regeisterd successfully!'\n",
    "    else:\n",
    "        return 'You are not authorized user!'\n",
    "\n",
    "@app.route('/showstores')\n",
    "def showstores():\n",
    "    if valid:\n",
    "        connection = sqlite3.connect('retail.db')\n",
    "        cursor = connection.cursor()\n",
    "        records = cursor.execute('SELECT * FROM stores')\n",
    "        return jsonify(list(records))\n",
    "    else:\n",
    "        return 'You are not authorized user!'\n",
    "\n",
    "@app.route('/updatestores', methods=['Post'])\n",
    "def updatestores():\n",
    "    if valid:\n",
    "        store = request.get_json()\n",
    "        connection = sqlite3.connect('retail.db')\n",
    "        cursor = connection.cursor()\n",
    "        cursor.execute(\"UPDATE stores SET number_of_items = '{}' WHERE store_id = '{}'\".format(store['num'], store['id']))\n",
    "        connection.commit()\n",
    "        connection.close()\n",
    "        return 'record updated successfully!'\n",
    "    else:\n",
    "        return 'You are not authorized user!'\n",
    "\n",
    "\n",
    "\n",
    "#products operation\n",
    "@app.route('/addprod', methods=['Post'])\n",
    "def addprod():\n",
    "    if valid:\n",
    "        product = request.get_json()\n",
    "        connection = sqlite3.connect('retail.db')\n",
    "        cursor = connection.cursor()\n",
    "        cursor.execute('INSERT INTO products_info Values(?,?,?)',(product['id'], product['name'], product['price']))\n",
    "        connection.commit()\n",
    "        connection.close()\n",
    "        return 'Product added successfully!'\n",
    "    else:\n",
    "        return 'You are not authorized user!'\n",
    "    \n",
    "@app.route('/delprod', methods = [\"Post\"])\n",
    "def delprod():\n",
    "    if valid:\n",
    "        product = request.get_json()\n",
    "        connection = sqlite3.connect('retail.db')\n",
    "        cursor = connection.cursor()\n",
    "        cursor.execute(\"DELETE FROM products_info WHERE product_id = '{}'\".format(product['id']))\n",
    "        connection.commit()\n",
    "        connection.close()\n",
    "        return 'Product deleted successfully!'\n",
    "    else:\n",
    "        return \"You are not authorized user!\"\n",
    "    \n",
    "@app.route('/updateprice', methods = ['Post'])\n",
    "def updateprice():\n",
    "    if valid:\n",
    "        product = request.get_json()\n",
    "        connection = sqlite3.connect('retail.db')\n",
    "        cursor = connection.cursor()\n",
    "        cursor.execute(\"UPDATE products_info SET price = '{}' WHERE product_id = '{}'\".format(product['price'], product['id']))\n",
    "        connection.commit()\n",
    "        connection.close()\n",
    "        return 'record updated successfully!'\n",
    "    else:\n",
    "        return 'You are not authorized user!'\n",
    "    \n",
    "@app.route('/showprod')\n",
    "def showprod():\n",
    "    if valid:\n",
    "        connection = sqlite3.connect('retail.db')\n",
    "        cursor = connection.cursor()\n",
    "        records = cursor.execute('SELECT * FROM products_info')\n",
    "        return jsonify(list(records))\n",
    "    else:\n",
    "        return 'You are not authorized user!'"
   ]
  },
  {
   "cell_type": "code",
   "execution_count": 7,
   "metadata": {
    "scrolled": true
   },
   "outputs": [
    {
     "name": "stderr",
     "output_type": "stream",
     "text": [
      " * Running on http://127.0.0.1:5020/ (Press CTRL+C to quit)\n",
      "127.0.0.1 - - [06/Jun/2020 12:15:14] \"\u001b[1m\u001b[31mPOST /login HTTP/1.1\u001b[0m\" 400 -\n",
      "127.0.0.1 - - [06/Jun/2020 12:15:47] \"\u001b[1m\u001b[31mPOST /login HTTP/1.1\u001b[0m\" 400 -\n"
     ]
    }
   ],
   "source": [
    "app.run(port=5020)"
   ]
  },
  {
   "cell_type": "code",
   "execution_count": null,
   "metadata": {},
   "outputs": [],
   "source": []
  },
  {
   "cell_type": "code",
   "execution_count": null,
   "metadata": {},
   "outputs": [],
   "source": []
  },
  {
   "cell_type": "code",
   "execution_count": null,
   "metadata": {},
   "outputs": [],
   "source": []
  },
  {
   "cell_type": "code",
   "execution_count": null,
   "metadata": {},
   "outputs": [],
   "source": []
  },
  {
   "cell_type": "code",
   "execution_count": null,
   "metadata": {},
   "outputs": [],
   "source": []
  },
  {
   "cell_type": "code",
   "execution_count": null,
   "metadata": {},
   "outputs": [],
   "source": []
  },
  {
   "cell_type": "code",
   "execution_count": null,
   "metadata": {},
   "outputs": [],
   "source": []
  },
  {
   "cell_type": "code",
   "execution_count": null,
   "metadata": {},
   "outputs": [],
   "source": []
  },
  {
   "cell_type": "code",
   "execution_count": null,
   "metadata": {},
   "outputs": [],
   "source": []
  },
  {
   "cell_type": "code",
   "execution_count": null,
   "metadata": {},
   "outputs": [],
   "source": []
  },
  {
   "cell_type": "code",
   "execution_count": null,
   "metadata": {},
   "outputs": [],
   "source": []
  },
  {
   "cell_type": "code",
   "execution_count": null,
   "metadata": {},
   "outputs": [],
   "source": []
  },
  {
   "cell_type": "code",
   "execution_count": null,
   "metadata": {},
   "outputs": [],
   "source": []
  },
  {
   "cell_type": "code",
   "execution_count": null,
   "metadata": {},
   "outputs": [],
   "source": []
  }
 ],
 "metadata": {
  "kernelspec": {
   "display_name": "Python 3",
   "language": "python",
   "name": "python3"
  },
  "language_info": {
   "codemirror_mode": {
    "name": "ipython",
    "version": 3
   },
   "file_extension": ".py",
   "mimetype": "text/x-python",
   "name": "python",
   "nbconvert_exporter": "python",
   "pygments_lexer": "ipython3",
   "version": "3.6.5"
  }
 },
 "nbformat": 4,
 "nbformat_minor": 4
}
